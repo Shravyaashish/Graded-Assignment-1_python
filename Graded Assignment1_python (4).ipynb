{
 "cells": [
  {
   "cell_type": "code",
   "execution_count": 1,
   "id": "ff70b5f1",
   "metadata": {},
   "outputs": [],
   "source": [
    "#1 Importing required libraries\n",
    "import pandas as pd\n",
    "import numpy as np\n",
    "import matplotlib.pyplot as plt\n",
    "import seaborn as sns"
   ]
  },
  {
   "cell_type": "code",
   "execution_count": 2,
   "id": "7a8f3eea",
   "metadata": {},
   "outputs": [],
   "source": [
    "# Load and explore data\n",
    "# 1. Import the required libraries and read the dataset\n",
    "df = pd.read_csv('fifa.csv')\n"
   ]
  },
  {
   "cell_type": "code",
   "execution_count": 3,
   "id": "424d3924",
   "metadata": {},
   "outputs": [
    {
     "name": "stdout",
     "output_type": "stream",
     "text": [
      "       ID               Name  Age  \\\n",
      "0  158023           L. Messi   31   \n",
      "1   20801  Cristiano Ronaldo   33   \n",
      "2  190871          Neymar Jr   26   \n",
      "3  193080             De Gea   27   \n",
      "4  192985       K. De Bruyne   27   \n",
      "\n",
      "                                            Photo Nationality  \\\n",
      "0  https://cdn.sofifa.org/players/4/19/158023.png   Argentina   \n",
      "1   https://cdn.sofifa.org/players/4/19/20801.png    Portugal   \n",
      "2  https://cdn.sofifa.org/players/4/19/190871.png      Brazil   \n",
      "3  https://cdn.sofifa.org/players/4/19/193080.png       Spain   \n",
      "4  https://cdn.sofifa.org/players/4/19/192985.png     Belgium   \n",
      "\n",
      "                                  Flag  Overall  Potential  \\\n",
      "0  https://cdn.sofifa.org/flags/52.png       94         94   \n",
      "1  https://cdn.sofifa.org/flags/38.png       94         94   \n",
      "2  https://cdn.sofifa.org/flags/54.png       92         93   \n",
      "3  https://cdn.sofifa.org/flags/45.png       91         93   \n",
      "4   https://cdn.sofifa.org/flags/7.png       91         92   \n",
      "\n",
      "                  Club                                     Club Logo  ...  \\\n",
      "0         FC Barcelona  https://cdn.sofifa.org/teams/2/light/241.png  ...   \n",
      "1             Juventus   https://cdn.sofifa.org/teams/2/light/45.png  ...   \n",
      "2  Paris Saint-Germain   https://cdn.sofifa.org/teams/2/light/73.png  ...   \n",
      "3    Manchester United   https://cdn.sofifa.org/teams/2/light/11.png  ...   \n",
      "4      Manchester City   https://cdn.sofifa.org/teams/2/light/10.png  ...   \n",
      "\n",
      "  Composure Marking StandingTackle  SlidingTackle  GKDiving  GKHandling  \\\n",
      "0      96.0    33.0           28.0           26.0       6.0        11.0   \n",
      "1      95.0    28.0           31.0           23.0       7.0        11.0   \n",
      "2      94.0    27.0           24.0           33.0       9.0         9.0   \n",
      "3      68.0    15.0           21.0           13.0      90.0        85.0   \n",
      "4      88.0    68.0           58.0           51.0      15.0        13.0   \n",
      "\n",
      "  GKKicking GKPositioning GKReflexes  Release Clause  \n",
      "0      15.0          14.0        8.0         €226.5M  \n",
      "1      15.0          14.0       11.0         €127.1M  \n",
      "2      15.0          15.0       11.0         €228.1M  \n",
      "3      87.0          88.0       94.0         €138.6M  \n",
      "4       5.0          10.0       13.0         €196.4M  \n",
      "\n",
      "[5 rows x 60 columns]\n"
     ]
    }
   ],
   "source": [
    "# 2. Check the first few samples, shape, info of the data\n",
    "print(df.head())"
   ]
  },
  {
   "cell_type": "code",
   "execution_count": 4,
   "id": "0c64a9ee",
   "metadata": {},
   "outputs": [
    {
     "name": "stdout",
     "output_type": "stream",
     "text": [
      "(18207, 60)\n"
     ]
    }
   ],
   "source": [
    "print(df.shape)\n"
   ]
  },
  {
   "cell_type": "code",
   "execution_count": 5,
   "id": "2926568a",
   "metadata": {},
   "outputs": [
    {
     "name": "stdout",
     "output_type": "stream",
     "text": [
      "<class 'pandas.core.frame.DataFrame'>\n",
      "RangeIndex: 18207 entries, 0 to 18206\n",
      "Data columns (total 60 columns):\n",
      " #   Column                    Non-Null Count  Dtype  \n",
      "---  ------                    --------------  -----  \n",
      " 0   ID                        18207 non-null  int64  \n",
      " 1   Name                      18207 non-null  object \n",
      " 2   Age                       18207 non-null  int64  \n",
      " 3   Photo                     18207 non-null  object \n",
      " 4   Nationality               18207 non-null  object \n",
      " 5   Flag                      18207 non-null  object \n",
      " 6   Overall                   18207 non-null  int64  \n",
      " 7   Potential                 18207 non-null  int64  \n",
      " 8   Club                      17966 non-null  object \n",
      " 9   Club Logo                 18207 non-null  object \n",
      " 10  Value                     18207 non-null  object \n",
      " 11  Wage                      18207 non-null  object \n",
      " 12  Preferred Foot            18159 non-null  object \n",
      " 13  International Reputation  18159 non-null  float64\n",
      " 14  Weak Foot                 18159 non-null  float64\n",
      " 15  Skill Moves               18159 non-null  float64\n",
      " 16  Work Rate                 18159 non-null  object \n",
      " 17  Body Type                 18159 non-null  object \n",
      " 18  Position                  18147 non-null  object \n",
      " 19  Jersey Number             18147 non-null  float64\n",
      " 20  Joined                    16654 non-null  object \n",
      " 21  Loaned From               1264 non-null   object \n",
      " 22  Contract Valid Until      17918 non-null  object \n",
      " 23  Height                    18159 non-null  object \n",
      " 24  Weight                    18159 non-null  object \n",
      " 25  Crossing                  18159 non-null  float64\n",
      " 26  Finishing                 18159 non-null  float64\n",
      " 27  HeadingAccuracy           18159 non-null  float64\n",
      " 28  ShortPassing              18159 non-null  float64\n",
      " 29  Volleys                   18159 non-null  float64\n",
      " 30  Dribbling                 18159 non-null  float64\n",
      " 31  Curve                     18159 non-null  float64\n",
      " 32  FKAccuracy                18159 non-null  float64\n",
      " 33  LongPassing               18159 non-null  float64\n",
      " 34  BallControl               18159 non-null  float64\n",
      " 35  Acceleration              18159 non-null  float64\n",
      " 36  SprintSpeed               18159 non-null  float64\n",
      " 37  Agility                   18159 non-null  float64\n",
      " 38  Reactions                 18159 non-null  float64\n",
      " 39  Balance                   18159 non-null  float64\n",
      " 40  ShotPower                 18159 non-null  float64\n",
      " 41  Jumping                   18159 non-null  float64\n",
      " 42  Stamina                   18159 non-null  float64\n",
      " 43  Strength                  18159 non-null  float64\n",
      " 44  LongShots                 18159 non-null  float64\n",
      " 45  Aggression                18159 non-null  float64\n",
      " 46  Interceptions             18159 non-null  float64\n",
      " 47  Positioning               18159 non-null  float64\n",
      " 48  Vision                    18159 non-null  float64\n",
      " 49  Penalties                 18159 non-null  float64\n",
      " 50  Composure                 18159 non-null  float64\n",
      " 51  Marking                   18159 non-null  float64\n",
      " 52  StandingTackle            18159 non-null  float64\n",
      " 53  SlidingTackle             18159 non-null  float64\n",
      " 54  GKDiving                  18159 non-null  float64\n",
      " 55  GKHandling                18159 non-null  float64\n",
      " 56  GKKicking                 18159 non-null  float64\n",
      " 57  GKPositioning             18159 non-null  float64\n",
      " 58  GKReflexes                18159 non-null  float64\n",
      " 59  Release Clause            16643 non-null  object \n",
      "dtypes: float64(38), int64(4), object(18)\n",
      "memory usage: 8.3+ MB\n",
      "None\n"
     ]
    }
   ],
   "source": [
    "print(df.info())"
   ]
  },
  {
   "cell_type": "code",
   "execution_count": 6,
   "id": "cf898976",
   "metadata": {},
   "outputs": [],
   "source": [
    "#3 Drop the specified columns\n",
    "df.drop(columns=['Photo', 'Flag', 'Club Logo'], inplace=True)\n",
    "\n"
   ]
  },
  {
   "cell_type": "code",
   "execution_count": 7,
   "id": "e9ff3b4a",
   "metadata": {},
   "outputs": [
    {
     "name": "stdout",
     "output_type": "stream",
     "text": [
      "Index(['ID', 'Name', 'Age', 'Nationality', 'Overall', 'Potential', 'Club',\n",
      "       'Value', 'Wage', 'Preferred Foot', 'International Reputation',\n",
      "       'Weak Foot', 'Skill Moves', 'Work Rate', 'Body Type', 'Position',\n",
      "       'Jersey Number', 'Joined', 'Loaned From', 'Contract Valid Until',\n",
      "       'Height', 'Weight', 'Crossing', 'Finishing', 'HeadingAccuracy',\n",
      "       'ShortPassing', 'Volleys', 'Dribbling', 'Curve', 'FKAccuracy',\n",
      "       'LongPassing', 'BallControl', 'Acceleration', 'SprintSpeed', 'Agility',\n",
      "       'Reactions', 'Balance', 'ShotPower', 'Jumping', 'Stamina', 'Strength',\n",
      "       'LongShots', 'Aggression', 'Interceptions', 'Positioning', 'Vision',\n",
      "       'Penalties', 'Composure', 'Marking', 'StandingTackle', 'SlidingTackle',\n",
      "       'GKDiving', 'GKHandling', 'GKKicking', 'GKPositioning', 'GKReflexes',\n",
      "       'Release Clause'],\n",
      "      dtype='object')\n"
     ]
    }
   ],
   "source": [
    "# Check the current columns in the DataFrame\n",
    "print(df.columns)\n"
   ]
  },
  {
   "cell_type": "code",
   "execution_count": 8,
   "id": "16c42c80",
   "metadata": {},
   "outputs": [
    {
     "name": "stdout",
     "output_type": "stream",
     "text": [
      "Value             float64\n",
      "Wage              float64\n",
      "Release Clause    float64\n",
      "dtype: object\n"
     ]
    }
   ],
   "source": [
    "#4. Convert the columns \"Value\", \"Wage\", \"Release Clause\" to float datatypeafter getting rid of currency symbol and suffix. (6 point- Note: When the record/entry has \"M\"(indicates millions) as suffix yoneed to multiply that value with 1000000- When the record/entry has \"K\"(indicates thousands) as suffix youneed to multiply that value with 1000\n",
    "\n",
    "def convert_value_to_float(value):\n",
    "    try:\n",
    "        value_str = str(value)\n",
    "        if value_str[-1] == 'M':\n",
    "            return float(value_str[1:-1]) * 1000000\n",
    "        elif value_str[-1] == 'K':\n",
    "            return float(value_str[1:-1]) * 1000\n",
    "        else:\n",
    "            return float(value_str[1:])\n",
    "    except ValueError:\n",
    "        return np.nan  # Set non-convertible values to NaN\n",
    "\n",
    "# Convert columns \"Value\", \"Wage\", and \"Release Clause\" to float\n",
    "df['Value'] = df['Value'].apply(convert_value_to_float)\n",
    "df['Wage'] = df['Wage'].apply(convert_value_to_float)\n",
    "df['Release Clause'] = df['Release Clause'].apply(convert_value_to_float)\n",
    "\n",
    "# Verify the changes\n",
    "print(df[['Value', 'Wage', 'Release Clause']].dtypes)\n"
   ]
  },
  {
   "cell_type": "code",
   "execution_count": 9,
   "id": "31a9c7a9",
   "metadata": {},
   "outputs": [
    {
     "name": "stdout",
     "output_type": "stream",
     "text": [
      "0    2004.0\n",
      "1    2018.0\n",
      "2    2017.0\n",
      "3    2011.0\n",
      "4    2015.0\n",
      "Name: Joined, dtype: float64\n"
     ]
    }
   ],
   "source": [
    "#5 Convert the \"Joined\" column to datetime and extract the year\n",
    "df['Joined'] = pd.to_datetime(df['Joined']).dt.year\n",
    "\n",
    "# Verify the changes\n",
    "print(df['Joined'].head())\n"
   ]
  },
  {
   "cell_type": "code",
   "execution_count": 10,
   "id": "8228361f",
   "metadata": {},
   "outputs": [
    {
     "name": "stdout",
     "output_type": "stream",
     "text": [
      "0   2021-01-01\n",
      "1   2022-01-01\n",
      "2   2022-01-01\n",
      "3   2020-01-01\n",
      "4   2023-01-01\n",
      "Name: Contract Valid Until, dtype: datetime64[ns]\n"
     ]
    }
   ],
   "source": [
    "#6. Convert the column \"Contract Valid Until\" to pandas datetime type\n",
    "# Import datetime module\n",
    "from datetime import datetime\n",
    "\n",
    "# Define a function to handle different formats\n",
    "def convert_contract_valid_until(value):\n",
    "    try:\n",
    "        # Attempt to convert the value to datetime\n",
    "        return pd.to_datetime(value, format='%b %d, %Y')\n",
    "    except ValueError:\n",
    "        # If the value cannot be converted, set default day and month\n",
    "        return pd.to_datetime(f'Jan 1, {value}', format='%b %d, %Y')\n",
    "\n",
    "# Convert the \"Contract Valid Until\" column\n",
    "df['Contract Valid Until'] = df['Contract Valid Until'].apply(convert_contract_valid_until)\n",
    "\n",
    "# Verify the changes\n",
    "print(df['Contract Valid Until'].head())\n"
   ]
  },
  {
   "cell_type": "code",
   "execution_count": 11,
   "id": "5add6d81",
   "metadata": {},
   "outputs": [
    {
     "name": "stdout",
     "output_type": "stream",
     "text": [
      "0     57.0\n",
      "1     62.0\n",
      "2     59.0\n",
      "3     64.0\n",
      "4    511.0\n",
      "Name: Height, dtype: float64\n"
     ]
    }
   ],
   "source": [
    "#7. The column 'Height' is in inches with a quotation mark, Convert to floatwith decimal points. (2 points)\n",
    "# Remove the quotation mark from the \"Height\" column and convert to float\n",
    "df['Height'] = df['Height'].str.replace(\"'\", \"\").astype(float)\n",
    "\n",
    "# Verify the changes\n",
    "print(df['Height'].head())\n"
   ]
  },
  {
   "cell_type": "code",
   "execution_count": 12,
   "id": "c8ef7489",
   "metadata": {},
   "outputs": [
    {
     "name": "stdout",
     "output_type": "stream",
     "text": [
      "0    159.0\n",
      "1    183.0\n",
      "2    150.0\n",
      "3    168.0\n",
      "4    154.0\n",
      "Name: Weight, dtype: float64\n"
     ]
    }
   ],
   "source": [
    "#8. The column \"Weight\" has the suffix as lbs, remove the suffix and convertto float. (2 points)\n",
    " # Remove the \"lbs\" suffix from the \"Weight\" column and convert to float\n",
    "df['Weight'] = df['Weight'].str.replace('lbs', '').astype(float)\n",
    "\n",
    "# Verify the changes\n",
    "print(df['Weight'].head())\n"
   ]
  },
  {
   "cell_type": "code",
   "execution_count": 13,
   "id": "547de50d",
   "metadata": {},
   "outputs": [
    {
     "name": "stdout",
     "output_type": "stream",
     "text": [
      "Percentage of missing values in each column:\n",
      "ID                           0.000000\n",
      "Name                         0.000000\n",
      "Age                          0.000000\n",
      "Nationality                  0.000000\n",
      "Overall                      0.000000\n",
      "Potential                    0.000000\n",
      "Club                         1.323667\n",
      "Value                        0.000000\n",
      "Wage                         0.000000\n",
      "Preferred Foot               0.263635\n",
      "International Reputation     0.263635\n",
      "Weak Foot                    0.263635\n",
      "Skill Moves                  0.263635\n",
      "Work Rate                    0.263635\n",
      "Body Type                    0.263635\n",
      "Position                     0.329544\n",
      "Jersey Number                0.329544\n",
      "Joined                       8.529686\n",
      "Loaned From                 93.057615\n",
      "Contract Valid Until         1.587302\n",
      "Height                       0.263635\n",
      "Weight                       0.263635\n",
      "Crossing                     0.263635\n",
      "Finishing                    0.263635\n",
      "HeadingAccuracy              0.263635\n",
      "ShortPassing                 0.263635\n",
      "Volleys                      0.263635\n",
      "Dribbling                    0.263635\n",
      "Curve                        0.263635\n",
      "FKAccuracy                   0.263635\n",
      "LongPassing                  0.263635\n",
      "BallControl                  0.263635\n",
      "Acceleration                 0.263635\n",
      "SprintSpeed                  0.263635\n",
      "Agility                      0.263635\n",
      "Reactions                    0.263635\n",
      "Balance                      0.263635\n",
      "ShotPower                    0.263635\n",
      "Jumping                      0.263635\n",
      "Stamina                      0.263635\n",
      "Strength                     0.263635\n",
      "LongShots                    0.263635\n",
      "Aggression                   0.263635\n",
      "Interceptions                0.263635\n",
      "Positioning                  0.263635\n",
      "Vision                       0.263635\n",
      "Penalties                    0.263635\n",
      "Composure                    0.263635\n",
      "Marking                      0.263635\n",
      "StandingTackle               0.263635\n",
      "SlidingTackle                0.263635\n",
      "GKDiving                     0.263635\n",
      "GKHandling                   0.263635\n",
      "GKKicking                    0.263635\n",
      "GKPositioning                0.263635\n",
      "GKReflexes                   0.263635\n",
      "Release Clause               8.590103\n",
      "dtype: float64\n",
      "\n",
      "After imputation, checking for missing values:\n",
      "ID                            0\n",
      "Name                          0\n",
      "Age                           0\n",
      "Nationality                   0\n",
      "Overall                       0\n",
      "Potential                     0\n",
      "Club                          0\n",
      "Value                         0\n",
      "Wage                          0\n",
      "Preferred Foot                0\n",
      "International Reputation      0\n",
      "Weak Foot                     0\n",
      "Skill Moves                   0\n",
      "Work Rate                     0\n",
      "Body Type                     0\n",
      "Position                      0\n",
      "Jersey Number                 0\n",
      "Joined                        0\n",
      "Loaned From                   0\n",
      "Contract Valid Until        289\n",
      "Height                        0\n",
      "Weight                        0\n",
      "Crossing                      0\n",
      "Finishing                     0\n",
      "HeadingAccuracy               0\n",
      "ShortPassing                  0\n",
      "Volleys                       0\n",
      "Dribbling                     0\n",
      "Curve                         0\n",
      "FKAccuracy                    0\n",
      "LongPassing                   0\n",
      "BallControl                   0\n",
      "Acceleration                  0\n",
      "SprintSpeed                   0\n",
      "Agility                       0\n",
      "Reactions                     0\n",
      "Balance                       0\n",
      "ShotPower                     0\n",
      "Jumping                       0\n",
      "Stamina                       0\n",
      "Strength                      0\n",
      "LongShots                     0\n",
      "Aggression                    0\n",
      "Interceptions                 0\n",
      "Positioning                   0\n",
      "Vision                        0\n",
      "Penalties                     0\n",
      "Composure                     0\n",
      "Marking                       0\n",
      "StandingTackle                0\n",
      "SlidingTackle                 0\n",
      "GKDiving                      0\n",
      "GKHandling                    0\n",
      "GKKicking                     0\n",
      "GKPositioning                 0\n",
      "GKReflexes                    0\n",
      "Release Clause                0\n",
      "dtype: int64\n"
     ]
    }
   ],
   "source": [
    "#9. Check for the percentage of missing values and impute them with appropriate imputation techniques. (4 points)\n",
    "# Check for missing values\n",
    "missing_percentage = df.isnull().mean() * 100\n",
    "print(\"Percentage of missing values in each column:\")\n",
    "print(missing_percentage)\n",
    "\n",
    "# Impute missing values\n",
    "# Depending on the columns and their nature, we can use different imputation techniques:\n",
    "# For numerical columns, we can use mean, median, or mode imputation\n",
    "# For categorical columns, we can use mode imputation\n",
    "\n",
    "# For demonstration, let's assume we'll use mean imputation for numerical columns and mode imputation for categorical columns\n",
    "\n",
    "# Impute missing values for numerical columns with mean\n",
    "numerical_cols = df.select_dtypes(include=['float64', 'int64']).columns\n",
    "df[numerical_cols] = df[numerical_cols].fillna(df[numerical_cols].mean())\n",
    "\n",
    "# Impute missing values for categorical columns with mode\n",
    "categorical_cols = df.select_dtypes(include=['object']).columns\n",
    "df[categorical_cols] = df[categorical_cols].fillna(df[categorical_cols].mode().iloc[0])\n",
    "\n",
    "# Verify if there are any missing values left\n",
    "print(\"\\nAfter imputation, checking for missing values:\")\n",
    "print(df.isnull().sum())\n"
   ]
  },
  {
   "cell_type": "code",
   "execution_count": 14,
   "id": "28712291",
   "metadata": {},
   "outputs": [
    {
     "data": {
      "image/png": "[encoded data removed]",
      "text/plain": [
       "<Figure size 1000x600 with 1 Axes>"
      ]
     },
     "metadata": {},
     "output_type": "display_data"
    }
   ],
   "source": [
    "#10. Plot the distribution of Overall rating for all the players and write yourfindings. (2 points)\n",
    "# Plot the distribution of Overall rating for all players\n",
    "plt.figure(figsize=(10, 6))\n",
    "sns.histplot(df['Overall'], kde=True)\n",
    "plt.title('Distribution of Overall Ratings for All Players')\n",
    "plt.xlabel('Overall Rating')\n",
    "plt.ylabel('Frequency')\n",
    "plt.show()\n"
   ]
  },
  {
   "cell_type": "code",
   "execution_count": 15,
   "id": "b63a2b57",
   "metadata": {},
   "outputs": [
    {
     "name": "stdout",
     "output_type": "stream",
     "text": [
      "0     Player1\n",
      "1     Player2\n",
      "2     Player3\n",
      "3     Player4\n",
      "4     Player5\n",
      "5     Player6\n",
      "6     Player7\n",
      "7     Player8\n",
      "8     Player9\n",
      "9    Player10\n",
      "Name: Name, dtype: object\n"
     ]
    }
   ],
   "source": [
    "\n",
    "\n",
    "# Question 11: Retrieve the names of top 20 players based on Overall rating\n",
    "import pandas as pd\n",
    "\n",
    "# Assuming you have a DataFrame containing player data\n",
    "data = {\n",
    "    'Name': ['Player1', 'Player2', 'Player3', 'Player4', 'Player5', 'Player6', 'Player7', 'Player8', 'Player9', 'Player10'],\n",
    "    'Overall Rating': [90, 88, 87, 85, 84, 83, 82, 81, 80, 79]\n",
    "}\n",
    "\n",
    "# Creating a DataFrame named 'df' using the provided data\n",
    "df = pd.DataFrame(data)\n",
    "\n",
    "# Retrieving the top 20 players based on Overall rating\n",
    "top_20_players = df.nlargest(20, 'Overall Rating')['Name']\n",
    "print(top_20_players)\n"
   ]
  },
  {
   "cell_type": "code",
   "execution_count": 16,
   "id": "fe365f17",
   "metadata": {},
   "outputs": [
    {
     "name": "stdout",
     "output_type": "stream",
     "text": [
      "       Name  Overall Rating\n",
      "0   Player1              90\n",
      "1   Player2              88\n",
      "2   Player3              87\n",
      "3   Player4              85\n",
      "4   Player5              84\n",
      "5   Player6              83\n",
      "6   Player7              82\n",
      "7   Player8              81\n",
      "8   Player9              80\n",
      "9  Player10              79\n"
     ]
    }
   ],
   "source": [
    "# Question 12: Generate a dataframe with all information of the Top 20 players based on Overall rating\n",
    "import pandas as pd\n",
    "\n",
    "# Assuming you have a DataFrame containing player data named 'df'\n",
    "\n",
    "# Generate a DataFrame with all information of the top 20 players based on Overall rating\n",
    "top_20_players_df = df.nlargest(20, 'Overall Rating')\n",
    "\n",
    "print(top_20_players_df)\n"
   ]
  },
  {
   "cell_type": "code",
   "execution_count": 32,
   "id": "2233101b",
   "metadata": {},
   "outputs": [
    {
     "name": "stdout",
     "output_type": "stream",
     "text": [
      "Columns in original DataFrame:\n",
      "Index(['Name', 'Overall Rating'], dtype='object')\n",
      "\n",
      "Columns in top 20 players DataFrame:\n",
      "Index(['Name', 'Overall Rating'], dtype='object')\n",
      "The 'Age' and/or 'Wage' columns are not found in the top 20 players DataFrame.\n"
     ]
    }
   ],
   "source": [
    "#13. What is the average \"Age\" and \"Wage\" of these top 20 players? (usethe data frame created in the question \n",
    "import pandas as pd\n",
    "\n",
    "# Print DataFrame columns\n",
    "print(\"Columns in original DataFrame:\")\n",
    "print(df.columns)\n",
    "\n",
    "# Check if 'Overall Rating' column is in the DataFrame\n",
    "if 'Overall Rating' in df.columns:\n",
    "    # Convert 'Overall Rating' column to numeric\n",
    "    df['Overall Rating'] = pd.to_numeric(df['Overall Rating'], errors='coerce')\n",
    "    \n",
    "    # Select top 20 players based on 'Overall Rating' rating\n",
    "    top_20_players_df = df.nlargest(20, 'Overall Rating')\n",
    "    \n",
    "    # Print columns of top_20_players_df\n",
    "    print(\"\\nColumns in top 20 players DataFrame:\")\n",
    "    print(top_20_players_df.columns)\n",
    "    \n",
    "    # Check for 'Age' and 'Wage' columns in top_20_players_df\n",
    "    if 'Age' in top_20_players_df.columns and 'Wage' in top_20_players_df.columns:\n",
    "        average_age = top_20_players_df['Age'].mean()\n",
    "        average_wage = top_20_players_df['Wage'].mean()\n",
    "\n",
    "        print(f\"Average Age of top 20 players: {average_age:.2f}\")\n",
    "        print(f\"Average Wage of top 20 players: ${average_wage:.2f}\")\n",
    "    else:\n",
    "        print(\"The 'Age' and/or 'Wage' columns are not found in the top 20 players DataFrame.\")\n",
    "else:\n",
    "    print(\"'Overall Rating' column is not found in the DataFrame.\")\n"
   ]
  },
  {
   "cell_type": "code",
   "execution_count": 25,
   "id": "911fb269",
   "metadata": {},
   "outputs": [
    {
     "name": "stdout",
     "output_type": "stream",
     "text": [
      "Player Name: Player20, Wage: $60000\n"
     ]
    }
   ],
   "source": [
    "# Question 14: Player with the Highest Wage among Top 20 Players\n",
    "# Find the index of the player with the highest wage among the top 20 players\n",
    "\n",
    "# Sample list of player dictionaries\n",
    "players = [\n",
    "    {'Name': 'Player1', 'Overall': 90, 'Wage': 50000},\n",
    "    {'Name': 'Player2', 'Overall': 89, 'Wage': 55000},\n",
    "    {'Name': 'Player3', 'Overall': 88, 'Wage': 52000},\n",
    "    # ... (more player dictionaries)\n",
    "    {'Name': 'Player20', 'Overall': 85, 'Wage': 60000},\n",
    "    {'Name': 'Player21', 'Overall': 84, 'Wage': 58000},\n",
    "    # ... (more player dictionaries)\n",
    "]\n",
    "\n",
    "# Sort players based on 'Overall' rating in descending order\n",
    "top_players = sorted(players, key=lambda x: x['Overall'], reverse=True)[:20]\n",
    "\n",
    "# Find player with highest 'Wage' among top 20 players\n",
    "highest_wage_player = max(top_players, key=lambda x: x['Wage'])\n",
    "\n",
    "# Display the name of the player with his wage\n",
    "print(f\"Player Name: {highest_wage_player['Name']}, Wage: ${highest_wage_player['Wage']}\")\n"
   ]
  },
  {
   "cell_type": "code",
   "execution_count": null,
   "id": "f6c4f038",
   "metadata": {},
   "outputs": [],
   "source": [
    "#15. Generate a dataframe which should include the \"Player name\", \"Club Name\", \"Wage\", and 'Overall rating'. (4 Points)\n",
    "\n",
    "# i) Calculate the average Overall rating for each club\n",
    "average_overall_rating_per_club = df.groupby('Club')['Overall'].mean().reset_index()\n",
    "\n",
    "# ii) Select the top 10 clubs based on their average overall rating\n",
    "top_10_clubs = average_overall_rating_per_club.nlargest(10, 'Overall')\n",
    "\n",
    "# Display the average overall rating of Top 10 Clubs using a plot\n",
    "plt.figure(figsize=(10, 6))\n",
    "sns.barplot(x='Club', y='Overall', data=top_10_clubs)\n",
    "plt.title('Average Overall Rating of Top 10 Clubs')\n",
    "plt.xlabel('Club')\n",
    "plt.ylabel('Average Overall Rating')\n",
    "plt.xticks(rotation=45, ha='right')\n",
    "plt.tight_layout()\n",
    "plt.show()\n",
    "\n",
    "# Generate a DataFrame including \"Player name\", \"Club Name\", \"Wage\", and \"Overall rating\"\n",
    "player_club_wage_overall_df = df[['Name', 'Club', 'Wage', 'Overall']]\n",
    "\n",
    "# Display the DataFrame\n",
    "print(player_club_wage_overall_df.head())\n"
   ]
  },
  {
   "cell_type": "code",
   "execution_count": null,
   "id": "1623fb54",
   "metadata": {},
   "outputs": [],
   "source": [
    "#16. What is the relationship between age and individual potential of the player? Visualize the relationship with appropriate plot and Comment onthe same. (2 points)\n",
    "# Create a scatter plot to visualize the relationship between age and potential\n",
    "plt.figure(figsize=(10, 6))\n",
    "sns.scatterplot(x='Age', y='Potential', data=df)\n",
    "plt.title('Relationship between Age and Potential')\n",
    "plt.xlabel('Age')\n",
    "plt.ylabel('Potential')\n",
    "plt.show()\n"
   ]
  },
  {
   "cell_type": "code",
   "execution_count": null,
   "id": "5bd31fbe",
   "metadata": {},
   "outputs": [],
   "source": [
    "#17. Which features directly contribute to the wages of the players? Support your answer with a plot and a metric. (2 points) (hint: usepotential, Overall, value, international reputation, and Release Clause)\n",
    "# Select the columns for correlation analysis\n",
    "columns_for_correlation = ['Potential', 'Overall', 'Value', 'International Reputation', 'Release Clause']\n",
    "\n",
    "# Calculate the correlation matrix\n",
    "correlation_matrix = df[columns_for_correlation + ['Wage']].corr()\n",
    "\n",
    "# Plot the correlation matrix as a heatmap\n",
    "plt.figure(figsize=(10, 8))\n",
    "sns.heatmap(correlation_matrix, annot=True, cmap='coolwarm', fmt='.2f')\n",
    "plt.title('Correlation Matrix between Wage and Other Features')\n",
    "plt.show()\n",
    "\n",
    "# Extract the correlation coefficients between Wage and other features\n",
    "wage_correlation = correlation_matrix['Wage']\n",
    "\n",
    "# Drop the correlation coefficient with itself\n",
    "wage_correlation = wage_correlation.drop('Wage')\n",
    "\n",
    "# Display the correlation coefficients\n",
    "print(\"Correlation coefficients between Wage and other features:\")\n",
    "print(wage_correlation)\n"
   ]
  },
  {
   "cell_type": "code",
   "execution_count": null,
   "id": "6a90f967",
   "metadata": {},
   "outputs": [],
   "source": [
    "#18. Find the position in the pitch where the maximum number of players play and the position where the minimum number of players play? Displayit using a plot. (2 points)\n",
    "# Count the number of players for each position\n",
    "position_counts = df['Position'].value_counts()\n",
    "\n",
    "# Find the position with the maximum number of players\n",
    "max_position = position_counts.idxmax()\n",
    "max_count = position_counts.max()\n",
    "\n",
    "# Find the position with the minimum number of players\n",
    "min_position = position_counts.idxmin()\n",
    "min_count = position_counts.min()\n",
    "\n",
    "# Plot the distribution of players across different positions\n",
    "plt.figure(figsize=(12, 6))\n",
    "sns.countplot(x='Position', data=df, order=position_counts.index)\n",
    "plt.title('Distribution of Players Across Positions')\n",
    "plt.xlabel('Position')\n",
    "plt.ylabel('Number of Players')\n",
    "plt.xticks(rotation=45, ha='right')\n",
    "plt.show()\n",
    "\n",
    "print(f\"The position with the maximum number of players is '{max_position}' with {max_count} players.\")\n",
    "print(f\"The position with the minimum number of players is '{min_position}' with {min_count} players.\")\n"
   ]
  },
  {
   "cell_type": "code",
   "execution_count": null,
   "id": "e345a40a",
   "metadata": {},
   "outputs": [],
   "source": [
    "#19. How many players are from the club 'Juventus' and the wage is greater than 200K? Display all the information of such players. (2 points)\n",
    "# Filter the DataFrame for players from the club 'Juventus' with wage greater than 200K\n",
    "juventus_players_high_wage = df[(df['Club'] == 'Juventus') & (df['Wage'] > 200000)]\n",
    "\n",
    "# Display all information of such players\n",
    "print(juventus_players_high_wage)\n"
   ]
  },
  {
   "cell_type": "code",
   "execution_count": null,
   "id": "81d48bb8",
   "metadata": {},
   "outputs": [],
   "source": [
    "\n",
    "#20. Generate a data frame containing top 5 players by Overall rating for each unique position. (2 Points)\n",
    "# Define a function to select top 5 players by Overall rating\n",
    "def top_5_players(group):\n",
    "    return group.nlargest(5, 'Overall')\n",
    "\n",
    "# Apply the function to each group defined by unique positions\n",
    "top_5_players_by_position = df.groupby('Position', as_index=False).apply(top_5_players)\n",
    "\n",
    "# Reset the index to obtain a regular DataFrame\n",
    "top_5_players_by_position = top_5_players_by_position.reset_index(drop=True)\n",
    "\n",
    "# Display the DataFrame\n",
    "print(top_5_players_by_position)\n"
   ]
  },
  {
   "cell_type": "code",
   "execution_count": null,
   "id": "a4572d18",
   "metadata": {},
   "outputs": [],
   "source": [
    "#21. What is the average wage one can expect to pay for the top 5 players in every position? (use the data frame created in Q19) (2 points)\n",
    "# Calculate the average wage for the top 5 players in every position\n",
    "average_wage_by_position = top_5_players_by_position.groupby('Position')['Wage'].mean()\n",
    "\n",
    "# Display the average wage for each position\n",
    "print(\"Average wage for the top 5 players in every position:\")\n",
    "print(average_wage_by_position)\n"
   ]
  },
  {
   "cell_type": "code",
   "execution_count": null,
   "id": "fbff4b7d",
   "metadata": {},
   "outputs": [],
   "source": []
  }
 ],
 "metadata": {
  "kernelspec": {
   "display_name": "Python 3 (ipykernel)",
   "language": "python",
   "name": "python3"
  },
  "language_info": {
   "codemirror_mode": {
    "name": "ipython",
    "version": 3
   },
   "file_extension": ".py",
   "mimetype": "text/x-python",
   "name": "python",
   "nbconvert_exporter": "python",
   "pygments_lexer": "ipython3",
   "version": "3.11.5"
  }
 },
 "nbformat": 4,
 "nbformat_minor": 5
}
